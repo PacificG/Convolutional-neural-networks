{
 "cells": [
  {
   "cell_type": "code",
   "execution_count": 1,
   "metadata": {},
   "outputs": [],
   "source": [
    "import os, shutil"
   ]
  },
  {
   "cell_type": "code",
   "execution_count": 10,
   "metadata": {},
   "outputs": [
    {
     "name": "stdout",
     "output_type": "stream",
     "text": [
      "Cat training images: 1000\n"
     ]
    },
    {
     "ename": "NameError",
     "evalue": "name 'trian_dogs_dir' is not defined",
     "output_type": "error",
     "traceback": [
      "\u001b[1;31m---------------------------------------------------------------------------\u001b[0m",
      "\u001b[1;31mNameError\u001b[0m                                 Traceback (most recent call last)",
      "\u001b[1;32m<ipython-input-10-7d7319ee3330>\u001b[0m in \u001b[0;36m<module>\u001b[1;34m\u001b[0m\n\u001b[0;32m     79\u001b[0m \u001b[1;33m\u001b[0m\u001b[0m\n\u001b[0;32m     80\u001b[0m \u001b[0mprint\u001b[0m\u001b[1;33m(\u001b[0m\u001b[1;34m'Cat training images:'\u001b[0m\u001b[1;33m,\u001b[0m\u001b[0mlen\u001b[0m\u001b[1;33m(\u001b[0m\u001b[0mos\u001b[0m\u001b[1;33m.\u001b[0m\u001b[0mlistdir\u001b[0m\u001b[1;33m(\u001b[0m\u001b[0mtrain_cats_dir\u001b[0m\u001b[1;33m)\u001b[0m\u001b[1;33m)\u001b[0m\u001b[1;33m)\u001b[0m\u001b[1;33m\u001b[0m\u001b[1;33m\u001b[0m\u001b[0m\n\u001b[1;32m---> 81\u001b[1;33m \u001b[0mprint\u001b[0m\u001b[1;33m(\u001b[0m\u001b[1;34m'Dogs training images:'\u001b[0m\u001b[1;33m,\u001b[0m\u001b[0mlen\u001b[0m\u001b[1;33m(\u001b[0m\u001b[0mos\u001b[0m\u001b[1;33m.\u001b[0m\u001b[0mlistdir\u001b[0m\u001b[1;33m(\u001b[0m\u001b[0mtrian_dogs_dir\u001b[0m\u001b[1;33m)\u001b[0m\u001b[1;33m)\u001b[0m\u001b[1;33m)\u001b[0m\u001b[1;33m\u001b[0m\u001b[1;33m\u001b[0m\u001b[0m\n\u001b[0m\u001b[0;32m     82\u001b[0m \u001b[1;33m\u001b[0m\u001b[0m\n\u001b[0;32m     83\u001b[0m \u001b[0mprint\u001b[0m\u001b[1;33m(\u001b[0m\u001b[1;34m'Cats validation images:'\u001b[0m\u001b[1;33m,\u001b[0m\u001b[0mlen\u001b[0m\u001b[1;33m(\u001b[0m\u001b[0mos\u001b[0m\u001b[1;33m.\u001b[0m\u001b[0mlistdir\u001b[0m\u001b[1;33m(\u001b[0m\u001b[0mvalidation_cats_dir\u001b[0m\u001b[1;33m)\u001b[0m\u001b[1;33m)\u001b[0m\u001b[1;33m)\u001b[0m\u001b[1;33m\u001b[0m\u001b[1;33m\u001b[0m\u001b[0m\n",
      "\u001b[1;31mNameError\u001b[0m: name 'trian_dogs_dir' is not defined"
     ]
    }
   ],
   "source": [
    "\n",
    "\n",
    "train_datadir = 'C:\\\\Users\\\\Prashant\\\\Desktop\\\\Deep learning with python\\\\dogs-vs-cats\\\\train\\\\train'\n",
    "\n",
    "\n",
    "base_dir = 'C:\\\\Users\\\\Prashant\\\\Desktop\\\\Deep learning with python\\\\cats_and_dogs_small'\n",
    "os.mkdir(base_dir)\n",
    "\n",
    "train_dir = os.path.join(base_dir,'train')\n",
    "os.mkdir(train_dir)\n",
    "\n",
    "validation_dir = os.path.join(base_dir,'validation')\n",
    "os.mkdir(validation_dir)\n",
    "\n",
    "test_dir = os.path.join(base_dir,'test')\n",
    "os.mkdir(test_dir)\n",
    "\n",
    "train_cats_dir = os.path.join(train_dir,'cats')\n",
    "os.mkdir(train_cats_dir)\n",
    "\n",
    "train_dogs_dir = os.path.join(train_dir,'dogs')\n",
    "os.mkdir(train_dogs_dir)\n",
    "\n",
    "validation_cats_dir = os.path.join(validation_dir,'cats')\n",
    "os.mkdir(validation_cats_dir)\n",
    "\n",
    "validation_dogs_dir = os.path.join(validation_dir,'dogs')\n",
    "os.mkdir(validation_dogs_dir)\n",
    "\n",
    "test_cats_dir = os.path.join(test_dir,'cats')\n",
    "os.mkdir(test_cats_dir)\n",
    "\n",
    "test_dogs_dir = os.path.join(test_dir,'dogs')\n",
    "os.mkdir(test_dogs_dir)\n",
    "\n",
    "fnames = ['cat.{}.jpg'.format(i) for i in range(1000)]\n",
    "\n",
    "for fname in fnames:\n",
    "    src = os.path.join(train_datadir, fname)\n",
    "    dst = os.path.join(train_cats_dir,fname)\n",
    "    shutil.copyfile(src,dst)\n",
    "    \n",
    "fnames = ['cat.{}.jpg'.format(i) for i in range(1000,1500)]\n",
    "\n",
    "for fname in fnames:\n",
    "    src = os.path.join(train_datadir,fname)\n",
    "    dst = os.path.join(validation_cats_dir,fname)\n",
    "    shutil.copyfile(src,dst)\n",
    "    \n",
    "fnames = ['cat.{}.jpg'.format(i) for i in range(1500,2000)]\n",
    "\n",
    "for fname in fnames:\n",
    "    src = os.path.join(train_datadir,fname)\n",
    "    dst = os.path.join(test_cats_dir,fname)\n",
    "    shutil.copyfile(src,dst)\n",
    "    \n",
    "fnames = ['dog.{}.jpg'.format(i) for i in range(1000)]\n",
    "\n",
    "for fname in fnames:\n",
    "    src = os.path.join(train_datadir,fname)\n",
    "    dst = os.path.join(train_dogs_dir,fname)\n",
    "    shutil.copyfile(src,dst)\n",
    "    \n",
    "fnames = ['dog.{}.jpg'.format(i) for i in range(1000,1500)]\n",
    "\n",
    "for fname in fnames:\n",
    "    src = os.path.join(train_datadir,fname)\n",
    "    dst = os.path.join(validation_dogs_dir,fname)\n",
    "    shutil.copyfile(src,dst)\n",
    "\n",
    "fnames = ['dog.{}.jpg'.format(i) for i in range(1500,2000)]\n",
    "\n",
    "for fname in fnames:\n",
    "    src = os.path.join(train_datadir,fname)\n",
    "    dst = os.path.join(test_dogs_dir,fname)\n",
    "    shutil.copyfile(src,dst)\n",
    "    \n",
    "#Check\n",
    "\n",
    "\n"
   ]
  },
  {
   "cell_type": "code",
   "execution_count": 11,
   "metadata": {},
   "outputs": [
    {
     "name": "stdout",
     "output_type": "stream",
     "text": [
      "Cat training images: 1000\n",
      "Dogs training images: 1000\n",
      "Cats validation images: 500\n"
     ]
    }
   ],
   "source": [
    "print('Cat training images:',len(os.listdir(train_cats_dir)))\n",
    "print('Dogs training images:',len(os.listdir(train_dogs_dir)))\n",
    "\n",
    "print('Cats validation images:',len(os.listdir(validation_cats_dir)))\n"
   ]
  },
  {
   "cell_type": "code",
   "execution_count": 13,
   "metadata": {},
   "outputs": [],
   "source": [
    "import tensorflow as tf\n",
    "from tensorflow import keras\n",
    "\n",
    "model = tf.keras.Sequential([\n",
    "    keras.layers.Conv2D(32,(3,3),activation='relu',input_shape=(150,150,3)),\n",
    "    keras.layers.MaxPooling2D((2,2)),\n",
    "    keras.layers.Conv2D(64,(3,3),activation='relu'),\n",
    "    keras.layers.MaxPooling2D((2,2)),\n",
    "    keras.layers.Conv2D(128,(3,3),activation='relu'),\n",
    "    keras.layers.MaxPooling2D((2,2)),\n",
    "    keras.layers.Conv2D(128,(3,3),activation='relu'),\n",
    "    keras.layers.MaxPooling2D((2,2)),\n",
    "    keras.layers.Flatten(),\n",
    "    keras.layers.Dense(512,activation='relu'),\n",
    "    keras.layers.Dense(1,activation='sigmoid')\n",
    "])"
   ]
  },
  {
   "cell_type": "code",
   "execution_count": 14,
   "metadata": {},
   "outputs": [
    {
     "name": "stdout",
     "output_type": "stream",
     "text": [
      "Model: \"sequential\"\n",
      "_________________________________________________________________\n",
      "Layer (type)                 Output Shape              Param #   \n",
      "=================================================================\n",
      "conv2d_4 (Conv2D)            (None, 148, 148, 32)      896       \n",
      "_________________________________________________________________\n",
      "max_pooling2d_4 (MaxPooling2 (None, 74, 74, 32)        0         \n",
      "_________________________________________________________________\n",
      "conv2d_5 (Conv2D)            (None, 72, 72, 64)        18496     \n",
      "_________________________________________________________________\n",
      "max_pooling2d_5 (MaxPooling2 (None, 36, 36, 64)        0         \n",
      "_________________________________________________________________\n",
      "conv2d_6 (Conv2D)            (None, 34, 34, 128)       73856     \n",
      "_________________________________________________________________\n",
      "max_pooling2d_6 (MaxPooling2 (None, 17, 17, 128)       0         \n",
      "_________________________________________________________________\n",
      "conv2d_7 (Conv2D)            (None, 15, 15, 128)       147584    \n",
      "_________________________________________________________________\n",
      "max_pooling2d_7 (MaxPooling2 (None, 7, 7, 128)         0         \n",
      "_________________________________________________________________\n",
      "flatten (Flatten)            (None, 6272)              0         \n",
      "_________________________________________________________________\n",
      "dense (Dense)                (None, 512)               3211776   \n",
      "_________________________________________________________________\n",
      "dense_1 (Dense)              (None, 1)                 513       \n",
      "=================================================================\n",
      "Total params: 3,453,121\n",
      "Trainable params: 3,453,121\n",
      "Non-trainable params: 0\n",
      "_________________________________________________________________\n"
     ]
    }
   ],
   "source": [
    "model.summary()"
   ]
  },
  {
   "cell_type": "code",
   "execution_count": 15,
   "metadata": {},
   "outputs": [],
   "source": [
    "model.compile(loss='binary_crossentropy',optimizer=keras.optimizers.RMSprop(lr=1e-4),\n",
    "             metrics=['acc'])"
   ]
  },
  {
   "cell_type": "code",
   "execution_count": 17,
   "metadata": {},
   "outputs": [
    {
     "name": "stdout",
     "output_type": "stream",
     "text": [
      "Found 2000 images belonging to 2 classes.\n",
      "Found 1000 images belonging to 2 classes.\n"
     ]
    }
   ],
   "source": [
    "# Data generator\n",
    "\n",
    "from tensorflow.keras.preprocessing.image import ImageDataGenerator\n",
    "\n",
    "train_datagen = ImageDataGenerator(rescale=1./255)\n",
    "test_datagen = ImageDataGenerator(rescale=1./255)\n",
    "\n",
    "train_generator = train_datagen.flow_from_directory(\n",
    "        train_dir,target_size=(150,150),batch_size=20,class_mode='binary')\n",
    "\n",
    "validation_generator = test_datagen.flow_from_directory(validation_dir,\n",
    "                                                       target_size=(150,150),\n",
    "                                                       batch_size=20,\n",
    "                                                       class_mode='binary')\n",
    "\n"
   ]
  },
  {
   "cell_type": "code",
   "execution_count": 18,
   "metadata": {},
   "outputs": [
    {
     "name": "stdout",
     "output_type": "stream",
     "text": [
      "data batch shape: (20, 150, 150, 3)\n",
      "label batch shape:  (20,)\n"
     ]
    }
   ],
   "source": [
    "for data_batch , label_batch in train_generator:\n",
    "    print('data batch shape:',data_batch.shape)\n",
    "    print('label batch shape: ',label_batch.shape)\n",
    "    break"
   ]
  },
  {
   "cell_type": "code",
   "execution_count": 19,
   "metadata": {},
   "outputs": [
    {
     "name": "stdout",
     "output_type": "stream",
     "text": [
      "Epoch 1/30\n"
     ]
    },
    {
     "name": "stderr",
     "output_type": "stream",
     "text": [
      "WARNING: Logging before flag parsing goes to stderr.\n",
      "W0903 17:24:47.860430   868 deprecation.py:323] From C:\\ProgramData\\Anaconda3\\lib\\site-packages\\tensorflow\\python\\ops\\math_grad.py:1250: add_dispatch_support.<locals>.wrapper (from tensorflow.python.ops.array_ops) is deprecated and will be removed in a future version.\n",
      "Instructions for updating:\n",
      "Use tf.where in 2.0, which has the same broadcast rule as np.where\n"
     ]
    },
    {
     "name": "stdout",
     "output_type": "stream",
     "text": [
      "100/100 [==============================] - 81s 812ms/step - loss: 0.6925 - acc: 0.5155 - val_loss: 0.6800 - val_acc: 0.5670\n",
      "Epoch 2/30\n",
      "100/100 [==============================] - 74s 737ms/step - loss: 0.6621 - acc: 0.5965 - val_loss: 0.6366 - val_acc: 0.6300\n",
      "Epoch 3/30\n",
      "100/100 [==============================] - 73s 734ms/step - loss: 0.6111 - acc: 0.6670 - val_loss: 0.6063 - val_acc: 0.6700\n",
      "Epoch 4/30\n",
      "100/100 [==============================] - 74s 737ms/step - loss: 0.5716 - acc: 0.7000 - val_loss: 0.5922 - val_acc: 0.6840\n",
      "Epoch 5/30\n",
      "100/100 [==============================] - 74s 738ms/step - loss: 0.5414 - acc: 0.7305 - val_loss: 0.5763 - val_acc: 0.6960\n",
      "Epoch 6/30\n",
      "100/100 [==============================] - 76s 760ms/step - loss: 0.5170 - acc: 0.7495 - val_loss: 0.6169 - val_acc: 0.6730\n",
      "Epoch 7/30\n",
      "100/100 [==============================] - 110s 1s/step - loss: 0.4950 - acc: 0.7670 - val_loss: 0.5822 - val_acc: 0.6930\n",
      "Epoch 8/30\n",
      "100/100 [==============================] - 123s 1s/step - loss: 0.4715 - acc: 0.7740 - val_loss: 0.5635 - val_acc: 0.7000\n",
      "Epoch 9/30\n",
      "100/100 [==============================] - 120s 1s/step - loss: 0.4412 - acc: 0.7980 - val_loss: 0.5858 - val_acc: 0.7150\n",
      "Epoch 10/30\n",
      "100/100 [==============================] - 124s 1s/step - loss: 0.4253 - acc: 0.8015 - val_loss: 0.5812 - val_acc: 0.7050\n",
      "Epoch 11/30\n",
      "100/100 [==============================] - 127s 1s/step - loss: 0.4033 - acc: 0.8175 - val_loss: 0.5726 - val_acc: 0.7100\n",
      "Epoch 12/30\n",
      "100/100 [==============================] - 128s 1s/step - loss: 0.3783 - acc: 0.8385 - val_loss: 0.5515 - val_acc: 0.7280\n",
      "Epoch 13/30\n",
      "100/100 [==============================] - 127s 1s/step - loss: 0.3528 - acc: 0.8465 - val_loss: 0.5672 - val_acc: 0.7230\n",
      "Epoch 14/30\n",
      "100/100 [==============================] - 127s 1s/step - loss: 0.3314 - acc: 0.8580 - val_loss: 0.6086 - val_acc: 0.7260\n",
      "Epoch 15/30\n",
      "100/100 [==============================] - 128s 1s/step - loss: 0.2995 - acc: 0.8695 - val_loss: 0.5837 - val_acc: 0.7330\n",
      "Epoch 16/30\n",
      "100/100 [==============================] - 128s 1s/step - loss: 0.2892 - acc: 0.8820 - val_loss: 0.5927 - val_acc: 0.7200\n",
      "Epoch 17/30\n",
      "100/100 [==============================] - 128s 1s/step - loss: 0.2690 - acc: 0.8935 - val_loss: 0.5982 - val_acc: 0.7320\n",
      "Epoch 18/30\n",
      "100/100 [==============================] - 126s 1s/step - loss: 0.2426 - acc: 0.9050 - val_loss: 0.5939 - val_acc: 0.7300\n",
      "Epoch 19/30\n",
      "100/100 [==============================] - 127s 1s/step - loss: 0.2292 - acc: 0.9065 - val_loss: 0.6346 - val_acc: 0.7370\n",
      "Epoch 20/30\n",
      "100/100 [==============================] - 127s 1s/step - loss: 0.2051 - acc: 0.9185 - val_loss: 0.6488 - val_acc: 0.7230\n",
      "Epoch 21/30\n",
      "100/100 [==============================] - 128s 1s/step - loss: 0.1861 - acc: 0.9265 - val_loss: 0.6254 - val_acc: 0.7440\n",
      "Epoch 22/30\n",
      "100/100 [==============================] - 124s 1s/step - loss: 0.1647 - acc: 0.9435 - val_loss: 0.7219 - val_acc: 0.7340\n",
      "Epoch 23/30\n",
      "100/100 [==============================] - 129s 1s/step - loss: 0.1490 - acc: 0.9440 - val_loss: 0.8696 - val_acc: 0.7020\n",
      "Epoch 24/30\n",
      "100/100 [==============================] - 132s 1s/step - loss: 0.1348 - acc: 0.9525 - val_loss: 0.9214 - val_acc: 0.7170\n",
      "Epoch 25/30\n",
      "100/100 [==============================] - 131s 1s/step - loss: 0.1187 - acc: 0.9665 - val_loss: 0.7474 - val_acc: 0.7350\n",
      "Epoch 26/30\n",
      "100/100 [==============================] - 131s 1s/step - loss: 0.1031 - acc: 0.9620 - val_loss: 0.7569 - val_acc: 0.7390\n",
      "Epoch 27/30\n",
      "100/100 [==============================] - 131s 1s/step - loss: 0.0882 - acc: 0.9755 - val_loss: 1.1452 - val_acc: 0.6780\n",
      "Epoch 28/30\n",
      "100/100 [==============================] - 130s 1s/step - loss: 0.0868 - acc: 0.9700 - val_loss: 0.8645 - val_acc: 0.7410\n",
      "Epoch 29/30\n",
      "100/100 [==============================] - 128s 1s/step - loss: 0.0665 - acc: 0.9830 - val_loss: 0.8689 - val_acc: 0.7410\n",
      "Epoch 30/30\n",
      "100/100 [==============================] - 131s 1s/step - loss: 0.0605 - acc: 0.9790 - val_loss: 0.9254 - val_acc: 0.7300\n"
     ]
    }
   ],
   "source": [
    "history = model.fit_generator(train_generator,\n",
    "                             steps_per_epoch=100,\n",
    "                             epochs=30,\n",
    "                             validation_data= validation_generator,\n",
    "                             validation_steps=50)"
   ]
  },
  {
   "cell_type": "code",
   "execution_count": 20,
   "metadata": {},
   "outputs": [],
   "source": [
    "model.save('cats_and_dogs_1.h5')"
   ]
  },
  {
   "cell_type": "code",
   "execution_count": 22,
   "metadata": {},
   "outputs": [
    {
     "data": {
      "image/png": "[encoded data removed]",
      "text/plain": [
       "<Figure size 432x288 with 1 Axes>"
      ]
     },
     "metadata": {
      "needs_background": "light"
     },
     "output_type": "display_data"
    },
    {
     "data": {
      "image/png": "[encoded data removed]",
      "text/plain": [
       "<Figure size 432x288 with 1 Axes>"
      ]
     },
     "metadata": {
      "needs_background": "light"
     },
     "output_type": "display_data"
    }
   ],
   "source": [
    "import matplotlib.pyplot as plt\n",
    "\n",
    "acc = history.history['acc']\n",
    "val_acc = history.history['val_acc']\n",
    "loss = history.history['loss']\n",
    "val_loss = history.history['val_loss']\n",
    "\n",
    "epochs = range(1,len(acc) + 1)\n",
    "\n",
    "plt.plot(epochs,acc,'bo',label='Training accuracy')\n",
    "plt.plot(epochs,val_acc,'b',label='Validation accuracy')\n",
    "plt.legend()\n",
    "plt.figure()\n",
    "\n",
    "plt.plot(epochs,loss,'bo',label='Training loss')\n",
    "plt.plot(epochs,val_loss,'b',label='Validation loss')\n",
    "\n",
    "plt.show()"
   ]
  },
  {
   "cell_type": "code",
   "execution_count": null,
   "metadata": {},
   "outputs": [],
   "source": [
    " "
   ]
  }
 ],
 "metadata": {
  "kernelspec": {
   "display_name": "Python 3",
   "language": "python",
   "name": "python3"
  },
  "language_info": {
   "codemirror_mode": {
    "name": "ipython",
    "version": 3
   },
   "file_extension": ".py",
   "mimetype": "text/x-python",
   "name": "python",
   "nbconvert_exporter": "python",
   "pygments_lexer": "ipython3",
   "version": "3.7.3"
  }
 },
 "nbformat": 4,
 "nbformat_minor": 2
}
